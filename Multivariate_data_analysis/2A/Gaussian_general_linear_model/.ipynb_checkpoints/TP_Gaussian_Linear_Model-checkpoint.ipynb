{
 "cells": [
  {
   "cell_type": "markdown",
   "id": "d982dca3",
   "metadata": {},
   "source": [
    "#### Aim: To locally adapt  the ozone concentration forecasts of the MOCAGE chemistry-transport model of MétéoFrance for the next 24 hours. This statistical post-processing called statistical adaptation (SA) aims to. The objective of this statistical post-processing called statistical adaptation (SA) is to debias the MOCAGE model and reduce the amplitude of its errors.\n"
   ]
  },
  {
   "cell_type": "markdown",
   "id": "ad019380",
   "metadata": {},
   "source": [
    "The strategy adopted in this TP is to estimate a single linear Gaussian model \n",
    "regressing observed ozone (predictand = variable O3o) at five sites in France (Aix, Cadarache-StPaul, Plan d'Aups, Rambouillet and Munchhausen in Alsace\n",
    "(Aix, Cadarache-StPaul, Plan d'Aups, Rambouillet and Munchhausen in Alsace; see map in appendix) by exploiting the 7 predictive \n",
    "map in the appendix) by exploiting the following 7 potential predictors: \n",
    "- O3p: [O3] predicted by MOCAGE at the time considered (μg/m3)\n",
    "- TEMPE: Temperature predicted by MOCAGE for the time frame considered (°C)\n",
    "- RMH2O: Mixing ratio predicted by MOCAGE for the time frame in question (g/kg)\n",
    "- FF: Wind force predicted by MOCAGE for the time frame in question (m/s)\n",
    "- NO2: [NO2] predicted by MOCAGE for the time frame in question (μg/m3)\n",
    "- DD: Day of the week (a factor with two modalities coded S for working days,\n",
    "- F for weekends and public holidays)\n",
    "- STATION: Name of the station, five-way factor coded Aix, Cad, Pla, Ram and Als.\n"
   ]
  },
  {
   "cell_type": "markdown",
   "id": "1e9c2e2a",
   "metadata": {},
   "source": [
    "The DataTP.txt file contains measurements of the \n",
    "O3o concentration measurements made during the summers of 2002 to 2005 and the associated forecasts \n",
    "from the MOCAGE model.\n"
   ]
  },
  {
   "cell_type": "markdown",
   "id": "1b44f523",
   "metadata": {},
   "source": [
    "## Data loading"
   ]
  },
  {
   "cell_type": "code",
   "execution_count": 8,
   "id": "ebdf4a84",
   "metadata": {},
   "outputs": [],
   "source": [
    "data=read.table(file=\"DataTP.txt\",header=TRUE)"
   ]
  },
  {
   "cell_type": "code",
   "execution_count": 9,
   "id": "c27f2998",
   "metadata": {},
   "outputs": [
    {
     "data": {
      "text/html": [
       "<table>\n",
       "<thead><tr><th scope=col>DATE</th><th scope=col>JJ</th><th scope=col>O3o</th><th scope=col>O3p</th><th scope=col>TEMPE</th><th scope=col>RMH2O</th><th scope=col>NO2</th><th scope=col>STATION</th><th scope=col>FF</th></tr></thead>\n",
       "<tbody>\n",
       "\t<tr><td>20020525</td><td>F       </td><td> 91     </td><td> 93.2   </td><td>21.5    </td><td>0.00847 </td><td>1.602   </td><td>Aix     </td><td>9.5000  </td></tr>\n",
       "\t<tr><td>20020526</td><td>F       </td><td>100     </td><td>104.6   </td><td>20.2    </td><td>0.00881 </td><td>2.121   </td><td>Aix     </td><td>8.0100  </td></tr>\n",
       "\t<tr><td>20020527</td><td>S       </td><td> 82     </td><td>103.6   </td><td>17.4    </td><td>0.00951 </td><td>1.657   </td><td>Aix     </td><td>9.3771  </td></tr>\n",
       "\t<tr><td>20020528</td><td>S       </td><td> 94     </td><td> 94.8   </td><td>18.8    </td><td>0.00855 </td><td>2.350   </td><td>Aix     </td><td>9.4578  </td></tr>\n",
       "\t<tr><td>20020529</td><td>S       </td><td>107     </td><td> 99.0   </td><td>23.7    </td><td>0.00731 </td><td>1.653   </td><td>Aix     </td><td>7.8791  </td></tr>\n",
       "\t<tr><td>20020530</td><td>S       </td><td>150     </td><td>114.3   </td><td>23.6    </td><td>0.01182 </td><td>5.316   </td><td>Aix     </td><td>6.3127  </td></tr>\n",
       "</tbody>\n",
       "</table>\n"
      ],
      "text/latex": [
       "\\begin{tabular}{r|lllllllll}\n",
       " DATE & JJ & O3o & O3p & TEMPE & RMH2O & NO2 & STATION & FF\\\\\n",
       "\\hline\n",
       "\t 20020525 & F        &  91      &  93.2    & 21.5     & 0.00847  & 1.602    & Aix      & 9.5000  \\\\\n",
       "\t 20020526 & F        & 100      & 104.6    & 20.2     & 0.00881  & 2.121    & Aix      & 8.0100  \\\\\n",
       "\t 20020527 & S        &  82      & 103.6    & 17.4     & 0.00951  & 1.657    & Aix      & 9.3771  \\\\\n",
       "\t 20020528 & S        &  94      &  94.8    & 18.8     & 0.00855  & 2.350    & Aix      & 9.4578  \\\\\n",
       "\t 20020529 & S        & 107      &  99.0    & 23.7     & 0.00731  & 1.653    & Aix      & 7.8791  \\\\\n",
       "\t 20020530 & S        & 150      & 114.3    & 23.6     & 0.01182  & 5.316    & Aix      & 6.3127  \\\\\n",
       "\\end{tabular}\n"
      ],
      "text/markdown": [
       "\n",
       "| DATE | JJ | O3o | O3p | TEMPE | RMH2O | NO2 | STATION | FF |\n",
       "|---|---|---|---|---|---|---|---|---|\n",
       "| 20020525 | F        |  91      |  93.2    | 21.5     | 0.00847  | 1.602    | Aix      | 9.5000   |\n",
       "| 20020526 | F        | 100      | 104.6    | 20.2     | 0.00881  | 2.121    | Aix      | 8.0100   |\n",
       "| 20020527 | S        |  82      | 103.6    | 17.4     | 0.00951  | 1.657    | Aix      | 9.3771   |\n",
       "| 20020528 | S        |  94      |  94.8    | 18.8     | 0.00855  | 2.350    | Aix      | 9.4578   |\n",
       "| 20020529 | S        | 107      |  99.0    | 23.7     | 0.00731  | 1.653    | Aix      | 7.8791   |\n",
       "| 20020530 | S        | 150      | 114.3    | 23.6     | 0.01182  | 5.316    | Aix      | 6.3127   |\n",
       "\n"
      ],
      "text/plain": [
       "  DATE     JJ O3o O3p   TEMPE RMH2O   NO2   STATION FF    \n",
       "1 20020525 F   91  93.2 21.5  0.00847 1.602 Aix     9.5000\n",
       "2 20020526 F  100 104.6 20.2  0.00881 2.121 Aix     8.0100\n",
       "3 20020527 S   82 103.6 17.4  0.00951 1.657 Aix     9.3771\n",
       "4 20020528 S   94  94.8 18.8  0.00855 2.350 Aix     9.4578\n",
       "5 20020529 S  107  99.0 23.7  0.00731 1.653 Aix     7.8791\n",
       "6 20020530 S  150 114.3 23.6  0.01182 5.316 Aix     6.3127"
      ]
     },
     "metadata": {},
     "output_type": "display_data"
    }
   ],
   "source": [
    "head(data)"
   ]
  },
  {
   "cell_type": "code",
   "execution_count": 10,
   "id": "cd4c284e",
   "metadata": {},
   "outputs": [
    {
     "data": {
      "text/html": [
       "<ol class=list-inline>\n",
       "\t<li>'DATE'</li>\n",
       "\t<li>'JJ'</li>\n",
       "\t<li>'O3o'</li>\n",
       "\t<li>'O3p'</li>\n",
       "\t<li>'TEMPE'</li>\n",
       "\t<li>'RMH2O'</li>\n",
       "\t<li>'NO2'</li>\n",
       "\t<li>'STATION'</li>\n",
       "\t<li>'FF'</li>\n",
       "</ol>\n"
      ],
      "text/latex": [
       "\\begin{enumerate*}\n",
       "\\item 'DATE'\n",
       "\\item 'JJ'\n",
       "\\item 'O3o'\n",
       "\\item 'O3p'\n",
       "\\item 'TEMPE'\n",
       "\\item 'RMH2O'\n",
       "\\item 'NO2'\n",
       "\\item 'STATION'\n",
       "\\item 'FF'\n",
       "\\end{enumerate*}\n"
      ],
      "text/markdown": [
       "1. 'DATE'\n",
       "2. 'JJ'\n",
       "3. 'O3o'\n",
       "4. 'O3p'\n",
       "5. 'TEMPE'\n",
       "6. 'RMH2O'\n",
       "7. 'NO2'\n",
       "8. 'STATION'\n",
       "9. 'FF'\n",
       "\n",
       "\n"
      ],
      "text/plain": [
       "[1] \"DATE\"    \"JJ\"      \"O3o\"     \"O3p\"     \"TEMPE\"   \"RMH2O\"   \"NO2\"    \n",
       "[8] \"STATION\" \"FF\"     "
      ]
     },
     "metadata": {},
     "output_type": "display_data"
    },
    {
     "data": {
      "text/plain": [
       "      DATE          JJ           O3o             O3p            TEMPE      \n",
       " Min.   :20020525   F:317   Min.   : 19.0   Min.   : 46.4   Min.   :10.40  \n",
       " 1st Qu.:20020721   S:724   1st Qu.: 87.0   1st Qu.: 97.5   1st Qu.:20.20  \n",
       " Median :20050529           Median :109.0   Median :125.6   Median :23.80  \n",
       " Mean   :20040083           Mean   :115.4   Mean   :127.2   Mean   :23.88  \n",
       " 3rd Qu.:20050726           3rd Qu.:135.0   3rd Qu.:153.6   3rd Qu.:27.60  \n",
       " Max.   :20050929           Max.   :319.0   Max.   :284.7   Max.   :38.00  \n",
       "     RMH2O              NO2         STATION         FF         \n",
       " Min.   :0.00285   Min.   : 0.258   Aix:199   Min.   : 0.1414  \n",
       " 1st Qu.:0.00763   1st Qu.: 1.248   Als:222   1st Qu.: 3.9623  \n",
       " Median :0.00985   Median : 2.109   Cad:202   Median : 5.5973  \n",
       " Mean   :0.01025   Mean   : 3.505   Pla:208   Mean   : 5.9072  \n",
       " 3rd Qu.:0.01244   3rd Qu.: 4.062   Ram:210   3rd Qu.: 7.1063  \n",
       " Max.   :0.02753   Max.   :44.396             Max.   :19.8910  "
      ]
     },
     "metadata": {},
     "output_type": "display_data"
    },
    {
     "data": {
      "text/html": [
       "<ol class=list-inline>\n",
       "\t<li>1041</li>\n",
       "\t<li>9</li>\n",
       "</ol>\n"
      ],
      "text/latex": [
       "\\begin{enumerate*}\n",
       "\\item 1041\n",
       "\\item 9\n",
       "\\end{enumerate*}\n"
      ],
      "text/markdown": [
       "1. 1041\n",
       "2. 9\n",
       "\n",
       "\n"
      ],
      "text/plain": [
       "[1] 1041    9"
      ]
     },
     "metadata": {},
     "output_type": "display_data"
    }
   ],
   "source": [
    "names(data)\n",
    "summary(data)\n",
    "dim(data)"
   ]
  },
  {
   "cell_type": "markdown",
   "id": "df1df583",
   "metadata": {},
   "source": [
    "## Preliminary study and simple regression"
   ]
  },
  {
   "cell_type": "code",
   "execution_count": 11,
   "id": "abb23f96",
   "metadata": {},
   "outputs": [],
   "source": [
    "aix=subset(data,data$STATION==\"Aix\")"
   ]
  },
  {
   "cell_type": "code",
   "execution_count": 12,
   "id": "4a2d0422",
   "metadata": {},
   "outputs": [
    {
     "data": {
      "text/html": [
       "<table>\n",
       "<thead><tr><th scope=col>DATE</th><th scope=col>JJ</th><th scope=col>O3o</th><th scope=col>O3p</th><th scope=col>TEMPE</th><th scope=col>RMH2O</th><th scope=col>NO2</th><th scope=col>STATION</th><th scope=col>FF</th></tr></thead>\n",
       "<tbody>\n",
       "\t<tr><td>20020525</td><td>F       </td><td> 91     </td><td> 93.2   </td><td>21.5    </td><td>0.00847 </td><td>1.602   </td><td>Aix     </td><td>9.5000  </td></tr>\n",
       "\t<tr><td>20020526</td><td>F       </td><td>100     </td><td>104.6   </td><td>20.2    </td><td>0.00881 </td><td>2.121   </td><td>Aix     </td><td>8.0100  </td></tr>\n",
       "\t<tr><td>20020527</td><td>S       </td><td> 82     </td><td>103.6   </td><td>17.4    </td><td>0.00951 </td><td>1.657   </td><td>Aix     </td><td>9.3771  </td></tr>\n",
       "\t<tr><td>20020528</td><td>S       </td><td> 94     </td><td> 94.8   </td><td>18.8    </td><td>0.00855 </td><td>2.350   </td><td>Aix     </td><td>9.4578  </td></tr>\n",
       "\t<tr><td>20020529</td><td>S       </td><td>107     </td><td> 99.0   </td><td>23.7    </td><td>0.00731 </td><td>1.653   </td><td>Aix     </td><td>7.8791  </td></tr>\n",
       "\t<tr><td>20020530</td><td>S       </td><td>150     </td><td>114.3   </td><td>23.6    </td><td>0.01182 </td><td>5.316   </td><td>Aix     </td><td>6.3127  </td></tr>\n",
       "</tbody>\n",
       "</table>\n"
      ],
      "text/latex": [
       "\\begin{tabular}{r|lllllllll}\n",
       " DATE & JJ & O3o & O3p & TEMPE & RMH2O & NO2 & STATION & FF\\\\\n",
       "\\hline\n",
       "\t 20020525 & F        &  91      &  93.2    & 21.5     & 0.00847  & 1.602    & Aix      & 9.5000  \\\\\n",
       "\t 20020526 & F        & 100      & 104.6    & 20.2     & 0.00881  & 2.121    & Aix      & 8.0100  \\\\\n",
       "\t 20020527 & S        &  82      & 103.6    & 17.4     & 0.00951  & 1.657    & Aix      & 9.3771  \\\\\n",
       "\t 20020528 & S        &  94      &  94.8    & 18.8     & 0.00855  & 2.350    & Aix      & 9.4578  \\\\\n",
       "\t 20020529 & S        & 107      &  99.0    & 23.7     & 0.00731  & 1.653    & Aix      & 7.8791  \\\\\n",
       "\t 20020530 & S        & 150      & 114.3    & 23.6     & 0.01182  & 5.316    & Aix      & 6.3127  \\\\\n",
       "\\end{tabular}\n"
      ],
      "text/markdown": [
       "\n",
       "| DATE | JJ | O3o | O3p | TEMPE | RMH2O | NO2 | STATION | FF |\n",
       "|---|---|---|---|---|---|---|---|---|\n",
       "| 20020525 | F        |  91      |  93.2    | 21.5     | 0.00847  | 1.602    | Aix      | 9.5000   |\n",
       "| 20020526 | F        | 100      | 104.6    | 20.2     | 0.00881  | 2.121    | Aix      | 8.0100   |\n",
       "| 20020527 | S        |  82      | 103.6    | 17.4     | 0.00951  | 1.657    | Aix      | 9.3771   |\n",
       "| 20020528 | S        |  94      |  94.8    | 18.8     | 0.00855  | 2.350    | Aix      | 9.4578   |\n",
       "| 20020529 | S        | 107      |  99.0    | 23.7     | 0.00731  | 1.653    | Aix      | 7.8791   |\n",
       "| 20020530 | S        | 150      | 114.3    | 23.6     | 0.01182  | 5.316    | Aix      | 6.3127   |\n",
       "\n"
      ],
      "text/plain": [
       "  DATE     JJ O3o O3p   TEMPE RMH2O   NO2   STATION FF    \n",
       "1 20020525 F   91  93.2 21.5  0.00847 1.602 Aix     9.5000\n",
       "2 20020526 F  100 104.6 20.2  0.00881 2.121 Aix     8.0100\n",
       "3 20020527 S   82 103.6 17.4  0.00951 1.657 Aix     9.3771\n",
       "4 20020528 S   94  94.8 18.8  0.00855 2.350 Aix     9.4578\n",
       "5 20020529 S  107  99.0 23.7  0.00731 1.653 Aix     7.8791\n",
       "6 20020530 S  150 114.3 23.6  0.01182 5.316 Aix     6.3127"
      ]
     },
     "metadata": {},
     "output_type": "display_data"
    }
   ],
   "source": [
    "head(aix)"
   ]
  },
  {
   "cell_type": "code",
   "execution_count": 13,
   "id": "8b468c39",
   "metadata": {},
   "outputs": [
    {
     "data": {
      "text/plain": [
       "      DATE          JJ           O3o             O3p            TEMPE      \n",
       " Min.   :20020525   F: 59   Min.   : 26.0   Min.   : 66.9   Min.   :14.30  \n",
       " 1st Qu.:20020716   S:140   1st Qu.: 93.0   1st Qu.:110.7   1st Qu.:23.30  \n",
       " Median :20050527           Median :112.0   Median :132.1   Median :26.10  \n",
       " Mean   :20039636           Mean   :119.5   Mean   :135.4   Mean   :25.77  \n",
       " 3rd Qu.:20050724           3rd Qu.:138.5   3rd Qu.:154.5   3rd Qu.:28.60  \n",
       " Max.   :20050925           Max.   :255.0   Max.   :253.4   Max.   :34.10  \n",
       "     RMH2O               NO2         STATION         FF         \n",
       " Min.   :0.003640   Min.   : 1.045   Aix:199   Min.   : 0.9434  \n",
       " 1st Qu.:0.007240   1st Qu.: 3.126   Als:  0   1st Qu.: 5.5938  \n",
       " Median :0.009560   Median : 4.836   Cad:  0   Median : 6.3127  \n",
       " Mean   :0.009962   Mean   : 6.732   Pla:  0   Mean   : 6.7949  \n",
       " 3rd Qu.:0.012055   3rd Qu.: 8.609   Ram:  0   3rd Qu.: 7.3730  \n",
       " Max.   :0.024860   Max.   :31.114             Max.   :14.2948  "
      ]
     },
     "metadata": {},
     "output_type": "display_data"
    },
    {
     "data": {
      "text/html": [
       "36.2505136671178"
      ],
      "text/latex": [
       "36.2505136671178"
      ],
      "text/markdown": [
       "36.2505136671178"
      ],
      "text/plain": [
       "[1] 36.25051"
      ]
     },
     "metadata": {},
     "output_type": "display_data"
    },
    {
     "data": {
      "text/html": [
       "34.1997430435146"
      ],
      "text/latex": [
       "34.1997430435146"
      ],
      "text/markdown": [
       "34.1997430435146"
      ],
      "text/plain": [
       "[1] 34.19974"
      ]
     },
     "metadata": {},
     "output_type": "display_data"
    },
    {
     "data": {
      "image/png": "[encoded data removed]",
      "text/plain": [
       "Plot with title \"Histogram of aix$O3p\""
      ]
     },
     "metadata": {},
     "output_type": "display_data"
    }
   ],
   "source": [
    "summary(aix)\n",
    "sd(aix$O3o) #standard deviation\n",
    "sd(aix$O3p)\n",
    "par(mfrow=c(1,2))\n",
    "hist(aix$O3o,breaks=seq(0,300,30),ylim=c(0,100))\n",
    "hist(aix$O3p,breaks=seq(0,300,30),ylim=c(0,100))"
   ]
  },
  {
   "cell_type": "code",
   "execution_count": 14,
   "id": "6157b076",
   "metadata": {},
   "outputs": [
    {
     "data": {
      "image/png": "[encoded data removed]",
      "text/plain": [
       "plot without title"
      ]
     },
     "metadata": {},
     "output_type": "display_data"
    }
   ],
   "source": [
    "boxplot(aix$O3o,aix$O3p,names=c(\"[O3]obs\",\"[O3]prevu\"))"
   ]
  },
  {
   "cell_type": "code",
   "execution_count": 15,
   "id": "faf017bb",
   "metadata": {},
   "outputs": [
    {
     "data": {
      "text/plain": [
       "\n",
       "\tF test to compare two variances\n",
       "\n",
       "data:  aix$O3o and aix$O3p\n",
       "F = 1.1235, num df = 198, denom df = 198, p-value = 0.4133\n",
       "alternative hypothesis: true ratio of variances is not equal to 1\n",
       "95 percent confidence interval:\n",
       " 0.8496676 1.4856490\n",
       "sample estimates:\n",
       "ratio of variances \n",
       "          1.123525 \n"
      ]
     },
     "metadata": {},
     "output_type": "display_data"
    }
   ],
   "source": [
    "var.test(aix$O3o,aix$O3p)\n"
   ]
  },
  {
   "cell_type": "markdown",
   "id": "6279ab33",
   "metadata": {},
   "source": [
    "### --> variances can be considered equal"
   ]
  },
  {
   "cell_type": "code",
   "execution_count": 18,
   "id": "9e246905",
   "metadata": {},
   "outputs": [
    {
     "data": {
      "text/plain": [
       "\n",
       "\tTwo Sample t-test\n",
       "\n",
       "data:  aix$O3o and aix$O3p\n",
       "t = -4.5013, df = 396, p-value = 8.892e-06\n",
       "alternative hypothesis: true difference in means is not equal to 0\n",
       "95 percent confidence interval:\n",
       " -22.84800  -8.95703\n",
       "sample estimates:\n",
       "mean of x mean of y \n",
       " 119.4975  135.4000 \n"
      ]
     },
     "metadata": {},
     "output_type": "display_data"
    }
   ],
   "source": [
    "t.test(aix$O3o,aix$O3p,var.equal=T)"
   ]
  },
  {
   "cell_type": "markdown",
   "id": "80d06b6e",
   "metadata": {},
   "source": [
    "### --> les moyennes sont significativement differentes --> biais positif de MOCAGE"
   ]
  },
  {
   "cell_type": "code",
   "execution_count": 19,
   "id": "63445922",
   "metadata": {},
   "outputs": [
    {
     "data": {
      "text/html": [
       "0.478133293907394"
      ],
      "text/latex": [
       "0.478133293907394"
      ],
      "text/markdown": [
       "0.478133293907394"
      ],
      "text/plain": [
       "[1] 0.4781333"
      ]
     },
     "metadata": {},
     "output_type": "display_data"
    },
    {
     "data": {
      "text/plain": [
       "\n",
       "\tPearson's product-moment correlation\n",
       "\n",
       "data:  aix$O3o and aix$O3p\n",
       "t = 7.6409, df = 197, p-value = 9.203e-13\n",
       "alternative hypothesis: true correlation is not equal to 0\n",
       "95 percent confidence interval:\n",
       " 0.3631973 0.5787353\n",
       "sample estimates:\n",
       "      cor \n",
       "0.4781333 \n"
      ]
     },
     "metadata": {},
     "output_type": "display_data"
    }
   ],
   "source": [
    "cor(aix$O3o,aix$O3p)\n",
    "cor.test(aix$O3o,aix$O3p)"
   ]
  },
  {
   "cell_type": "markdown",
   "id": "cc433363",
   "metadata": {},
   "source": [
    "### --> significant linear link"
   ]
  },
  {
   "cell_type": "code",
   "execution_count": 23,
   "id": "182f4c5a",
   "metadata": {},
   "outputs": [
    {
     "data": {
      "text/plain": [
       "\n",
       "Call:\n",
       "lm(formula = O3o ~ O3p, data = aix)\n",
       "\n",
       "Residuals:\n",
       "     Min       1Q   Median       3Q      Max \n",
       "-119.801  -20.070   -3.895   15.507  107.223 \n",
       "\n",
       "Coefficients:\n",
       "            Estimate Std. Error t value Pr(>|t|)    \n",
       "(Intercept) 50.87618    9.26142   5.493 1.21e-07 ***\n",
       "O3p          0.50680    0.06633   7.641 9.20e-13 ***\n",
       "---\n",
       "Signif. codes:  0 '***' 0.001 '**' 0.01 '*' 0.05 '.' 0.1 ' ' 1\n",
       "\n",
       "Residual standard error: 31.92 on 197 degrees of freedom\n",
       "Multiple R-squared:  0.2286,\tAdjusted R-squared:  0.2247 \n",
       "F-statistic: 58.38 on 1 and 197 DF,  p-value: 9.203e-13\n"
      ]
     },
     "metadata": {},
     "output_type": "display_data"
    },
    {
     "data": {
      "image/png": "[encoded data removed]",
      "text/plain": [
       "Plot with title \"PREVISIONS 24H\""
      ]
     },
     "metadata": {},
     "output_type": "display_data"
    }
   ],
   "source": [
    "plot(aix$O3p,aix$O3o,xlab=\"O3 PREVU MOCAGE\",ylab=\"O3 OBSERVE\",main=\"PREVISIONS 24H\",pch='+')\n",
    "abline(regsimple,col=\"red\")\n",
    "regsimple=lm(O3o~O3p,data=aix)\n",
    "summary(regsimple)"
   ]
  },
  {
   "cell_type": "markdown",
   "id": "07007d27",
   "metadata": {},
   "source": [
    " - the 2 parameters of the model are judged to be significantly different from 0\n",
    " - simple regression explains only 22.86% of the total variance of the predictand\n",
    " - by considering other predictors, the statistical model can certainly be improved"
   ]
  },
  {
   "cell_type": "code",
   "execution_count": 42,
   "id": "e20ee565",
   "metadata": {},
   "outputs": [
    {
     "data": {
      "image/png": "[encoded data removed]",
      "text/plain": [
       "Plot with title \"Concentration d'ozone à Aix\""
      ]
     },
     "metadata": {},
     "output_type": "display_data"
    }
   ],
   "source": [
    "plot(aix$O3o,type =\"l\",lwd=2,main=\"Concentration d'ozone à Aix\",xlab=\"Date\",ylab=\"[O3]\")\n",
    "points(aix$O3p,col=\"blue\",pch=\"+\")\n",
    "points(fitted(regsimple),col=\"red\",pch=\"+\")\n",
    "legend(0,268,lty=1,col=c(\"black\"),legend=c(\"observée\"),bty=\"n\")\n",
    "legend(0,256,pch=\"+\",col=c(\"blue\",\"red\"),legend=c(\"       prevue\",\"       AS\"),bty=\"n\")"
   ]
  },
  {
   "cell_type": "code",
   "execution_count": 43,
   "id": "ce115903",
   "metadata": {},
   "outputs": [],
   "source": [
    "# the statistical treatment pulls the raw predictions towards the mean of the predictand and is unable to reach the extreme values\n",
    "# the variability of the predictand is poorly reproduced, the regression needs to be enriched to reach a higher variability\n"
   ]
  },
  {
   "cell_type": "markdown",
   "id": "9c4477ab",
   "metadata": {},
   "source": [
    "## Multiple regression: continuous predictors"
   ]
  },
  {
   "cell_type": "code",
   "execution_count": 44,
   "id": "d7503f2f",
   "metadata": {},
   "outputs": [
    {
     "data": {
      "text/html": [
       "0.108580599307481"
      ],
      "text/latex": [
       "0.108580599307481"
      ],
      "text/markdown": [
       "0.108580599307481"
      ],
      "text/plain": [
       "[1] 0.1085806"
      ]
     },
     "metadata": {},
     "output_type": "display_data"
    },
    {
     "data": {
      "text/html": [
       "0.175343990139813"
      ],
      "text/latex": [
       "0.175343990139813"
      ],
      "text/markdown": [
       "0.175343990139813"
      ],
      "text/plain": [
       "[1] 0.175344"
      ]
     },
     "metadata": {},
     "output_type": "display_data"
    },
    {
     "data": {
      "image/png": "[encoded data removed]",
      "text/plain": [
       "Plot with title \"Histogram of log(data$NO2)\""
      ]
     },
     "metadata": {},
     "output_type": "display_data"
    }
   ],
   "source": [
    "par(mfrow=c(3,2))\n",
    "hist(data$O3p)\n",
    "hist(data$TEMPE)\n",
    "hist(data$FF)\n",
    "hist(data$RMH2O)\n",
    "hist(data$NO2)\n",
    "hist(log(data$NO2))\n",
    "cor(data$O3o,data$NO2)\n",
    "cor(data$O3o,log(data$NO2))"
   ]
  },
  {
   "cell_type": "markdown",
   "id": "7bfbbcd2",
   "metadata": {},
   "source": [
    " - The distribution of NO2 is very skewed, the use of the log function allows to obtain a profile more adapted to the Gaussian model\n",
    " the symmetry of the predictor distributions is not an assumption of the GLM but it allows to limit the occurrences and impacts of extreme values \n",
    " which would be very influential in the estimation of the regression parameters. The predictor developed will also be better correlated with the predictand O3o.\n",
    " - The predictor developed will also be better correlated with the predictor of O3o -> we will therefore rather use the variable log(NO2) as a predictor in the future."
   ]
  },
  {
   "cell_type": "code",
   "execution_count": 46,
   "id": "9b8c850b",
   "metadata": {},
   "outputs": [
    {
     "data": {
      "image/png": "[encoded data removed]",
      "text/plain": [
       "plot without title"
      ]
     },
     "metadata": {},
     "output_type": "display_data"
    }
   ],
   "source": [
    "pairs(data[,c(-1,-2,-8)])"
   ]
  },
  {
   "cell_type": "markdown",
   "id": "6081b4c2",
   "metadata": {},
   "source": [
    " - we try to identify on this graphical matrix the multicolinearity problems between predictors and the strong correlations between \n",
    " the different variables and the predictand O3o\n",
    " - no significant collinearity problems between predictors here, the best correlated variables with O3o seem to be O3p and TEMPE which will constitute the best predictors \n",
    " probably the best predictors\n"
   ]
  },
  {
   "cell_type": "code",
   "execution_count": 48,
   "id": "358de5ca",
   "metadata": {},
   "outputs": [
    {
     "data": {
      "text/plain": [
       "\n",
       "Call:\n",
       "lm(formula = O3o ~ O3p + TEMPE + RMH2O + log(NO2) + FF, data = data)\n",
       "\n",
       "Residuals:\n",
       "     Min       1Q   Median       3Q      Max \n",
       "-106.096  -18.814   -0.804   18.014  155.746 \n",
       "\n",
       "Coefficients:\n",
       "             Estimate Std. Error t value Pr(>|t|)    \n",
       "(Intercept) -19.69561    5.03109  -3.915 9.64e-05 ***\n",
       "O3p           0.41301    0.02586  15.969  < 2e-16 ***\n",
       "TEMPE         3.36476    0.19091  17.625  < 2e-16 ***\n",
       "RMH2O       678.86273  257.51488   2.636  0.00851 ** \n",
       "log(NO2)     -0.96743    1.09449  -0.884  0.37695    \n",
       "FF           -0.66890    0.30556  -2.189  0.02881 *  \n",
       "---\n",
       "Signif. codes:  0 '***' 0.001 '**' 0.01 '*' 0.05 '.' 0.1 ' ' 1\n",
       "\n",
       "Residual standard error: 28.62 on 1035 degrees of freedom\n",
       "Multiple R-squared:  0.5151,\tAdjusted R-squared:  0.5128 \n",
       "F-statistic: 219.9 on 5 and 1035 DF,  p-value: < 2.2e-16\n"
      ]
     },
     "metadata": {},
     "output_type": "display_data"
    }
   ],
   "source": [
    "regmult=lm(O3o~O3p+TEMPE+RMH2O+log(NO2)+FF,data)\n",
    "summary(regmult)"
   ]
  },
  {
   "cell_type": "markdown",
   "id": "c2b968f0",
   "metadata": {},
   "source": [
    " - Student's t test analysis shows that the influence of NO2 is not significant\n",
    " the % of explained variance increases to 51.51%.\n"
   ]
  },
  {
   "cell_type": "code",
   "execution_count": 50,
   "id": "920a95e6",
   "metadata": {},
   "outputs": [
    {
     "data": {
      "text/html": [
       "<table>\n",
       "<thead><tr><th scope=col>(Intercept)</th><th scope=col>O3p</th><th scope=col>TEMPE</th><th scope=col>RMH2O</th><th scope=col>log(NO2)</th><th scope=col>FF</th></tr></thead>\n",
       "<tbody>\n",
       "\t<tr><td>1        </td><td> 93.2    </td><td>21.5     </td><td>0.00847  </td><td>0.4712528</td><td>9.5000   </td></tr>\n",
       "\t<tr><td>1        </td><td>104.6    </td><td>20.2     </td><td>0.00881  </td><td>0.7518877</td><td>8.0100   </td></tr>\n",
       "\t<tr><td>1        </td><td>103.6    </td><td>17.4     </td><td>0.00951  </td><td>0.5050087</td><td>9.3771   </td></tr>\n",
       "\t<tr><td>1        </td><td> 94.8    </td><td>18.8     </td><td>0.00855  </td><td>0.8544153</td><td>9.4578   </td></tr>\n",
       "\t<tr><td>1        </td><td> 99.0    </td><td>23.7     </td><td>0.00731  </td><td>0.5025918</td><td>7.8791   </td></tr>\n",
       "\t<tr><td>1        </td><td>114.3    </td><td>23.6     </td><td>0.01182  </td><td>1.6707211</td><td>6.3127   </td></tr>\n",
       "\t<tr><td>1        </td><td>127.7    </td><td>26.6     </td><td>0.00937  </td><td>1.0441561</td><td>4.8042   </td></tr>\n",
       "\t<tr><td>1        </td><td>164.3    </td><td>23.5     </td><td>0.01087  </td><td>2.7557604</td><td>4.8795   </td></tr>\n",
       "\t<tr><td>1        </td><td>144.1    </td><td>23.3     </td><td>0.01168  </td><td>2.1755469</td><td>5.1088   </td></tr>\n",
       "\t<tr><td>1        </td><td>112.8    </td><td>23.7     </td><td>0.01091  </td><td>2.9397438</td><td>5.4406   </td></tr>\n",
       "</tbody>\n",
       "</table>\n"
      ],
      "text/latex": [
       "\\begin{tabular}{r|llllll}\n",
       " (Intercept) & O3p & TEMPE & RMH2O & log(NO2) & FF\\\\\n",
       "\\hline\n",
       "\t 1         &  93.2     & 21.5      & 0.00847   & 0.4712528 & 9.5000   \\\\\n",
       "\t 1         & 104.6     & 20.2      & 0.00881   & 0.7518877 & 8.0100   \\\\\n",
       "\t 1         & 103.6     & 17.4      & 0.00951   & 0.5050087 & 9.3771   \\\\\n",
       "\t 1         &  94.8     & 18.8      & 0.00855   & 0.8544153 & 9.4578   \\\\\n",
       "\t 1         &  99.0     & 23.7      & 0.00731   & 0.5025918 & 7.8791   \\\\\n",
       "\t 1         & 114.3     & 23.6      & 0.01182   & 1.6707211 & 6.3127   \\\\\n",
       "\t 1         & 127.7     & 26.6      & 0.00937   & 1.0441561 & 4.8042   \\\\\n",
       "\t 1         & 164.3     & 23.5      & 0.01087   & 2.7557604 & 4.8795   \\\\\n",
       "\t 1         & 144.1     & 23.3      & 0.01168   & 2.1755469 & 5.1088   \\\\\n",
       "\t 1         & 112.8     & 23.7      & 0.01091   & 2.9397438 & 5.4406   \\\\\n",
       "\\end{tabular}\n"
      ],
      "text/markdown": [
       "\n",
       "| (Intercept) | O3p | TEMPE | RMH2O | log(NO2) | FF |\n",
       "|---|---|---|---|---|---|\n",
       "| 1         |  93.2     | 21.5      | 0.00847   | 0.4712528 | 9.5000    |\n",
       "| 1         | 104.6     | 20.2      | 0.00881   | 0.7518877 | 8.0100    |\n",
       "| 1         | 103.6     | 17.4      | 0.00951   | 0.5050087 | 9.3771    |\n",
       "| 1         |  94.8     | 18.8      | 0.00855   | 0.8544153 | 9.4578    |\n",
       "| 1         |  99.0     | 23.7      | 0.00731   | 0.5025918 | 7.8791    |\n",
       "| 1         | 114.3     | 23.6      | 0.01182   | 1.6707211 | 6.3127    |\n",
       "| 1         | 127.7     | 26.6      | 0.00937   | 1.0441561 | 4.8042    |\n",
       "| 1         | 164.3     | 23.5      | 0.01087   | 2.7557604 | 4.8795    |\n",
       "| 1         | 144.1     | 23.3      | 0.01168   | 2.1755469 | 5.1088    |\n",
       "| 1         | 112.8     | 23.7      | 0.01091   | 2.9397438 | 5.4406    |\n",
       "\n"
      ],
      "text/plain": [
       "   (Intercept) O3p   TEMPE RMH2O   log(NO2)  FF    \n",
       "1  1            93.2 21.5  0.00847 0.4712528 9.5000\n",
       "2  1           104.6 20.2  0.00881 0.7518877 8.0100\n",
       "3  1           103.6 17.4  0.00951 0.5050087 9.3771\n",
       "4  1            94.8 18.8  0.00855 0.8544153 9.4578\n",
       "5  1            99.0 23.7  0.00731 0.5025918 7.8791\n",
       "6  1           114.3 23.6  0.01182 1.6707211 6.3127\n",
       "7  1           127.7 26.6  0.00937 1.0441561 4.8042\n",
       "8  1           164.3 23.5  0.01087 2.7557604 4.8795\n",
       "9  1           144.1 23.3  0.01168 2.1755469 5.1088\n",
       "10 1           112.8 23.7  0.01091 2.9397438 5.4406"
      ]
     },
     "metadata": {},
     "output_type": "display_data"
    }
   ],
   "source": [
    "model.matrix(regmult)[1:10,]"
   ]
  },
  {
   "cell_type": "code",
   "execution_count": 52,
   "id": "725e1bca",
   "metadata": {},
   "outputs": [
    {
     "data": {
      "image/png": "[encoded data removed]",
      "text/plain": [
       "Plot with title \"Hypothèse d'homoscédasticité\""
      ]
     },
     "metadata": {},
     "output_type": "display_data"
    }
   ],
   "source": [
    "plot(fitted(regmult),residuals(regmult),main=\"Hypothèse d'homoscédasticité\",xlab=\"Valeurs ajustées (Y*)\",ylab=\"Résidus\")\n",
    "# -> legere heteroscedasticite, il y aurait mieux à faire qu'une regression lineaire : il faudrait transformer le predictand pour stabiliser la variance des erreurs"
   ]
  },
  {
   "cell_type": "code",
   "execution_count": 53,
   "id": "e57f6dd3",
   "metadata": {},
   "outputs": [
    {
     "data": {
      "image/png": "[encoded data removed]",
      "text/plain": [
       "Plot with title \"Normal Q-Q Plot\""
      ]
     },
     "metadata": {},
     "output_type": "display_data"
    }
   ],
   "source": [
    "qqnorm(residuals(regmult))"
   ]
  },
  {
   "cell_type": "markdown",
   "id": "792d7cbc",
   "metadata": {},
   "source": [
    " - the tails of the distribution deviate from normality, but overall this hypothesis does not pose a problem"
   ]
  },
  {
   "cell_type": "code",
   "execution_count": 55,
   "id": "c50e4318",
   "metadata": {},
   "outputs": [
    {
     "data": {
      "image/png": "[encoded data removed]",
      "text/plain": [
       "Plot with title \"Series  residuals(regmult)\""
      ]
     },
     "metadata": {},
     "output_type": "display_data"
    }
   ],
   "source": [
    "acf(residuals(regmult))"
   ]
  },
  {
   "cell_type": "markdown",
   "id": "8afb9df4",
   "metadata": {},
   "source": [
    " - strong temporal correlation during one week, less clear afterwards. \n",
    " - an autoregressive model could be more adapted (= tool modelling this temporal dependence)"
   ]
  },
  {
   "cell_type": "code",
   "execution_count": 57,
   "id": "1010b9a5",
   "metadata": {},
   "outputs": [
    {
     "data": {
      "image/png": "[encoded data removed]",
      "text/plain": [
       "Plot with title \"Hypothèse de linéarité\""
      ]
     },
     "metadata": {},
     "output_type": "display_data"
    }
   ],
   "source": [
    "plot(fitted(regmult),data$O3o,xlab=\"[03] PREVUE par AS\",ylab=\"[03] OBSERVEE\",pch=\"+\",main=\"Hypothèse de linéarité\")"
   ]
  },
  {
   "cell_type": "markdown",
   "id": "491cef27",
   "metadata": {},
   "source": [
    " - The hypothesis of linearity of the O3o expectation is correct even if we detect a slight curvature\n",
    " - In the end, the predictors to keep here would be O3p, TEMPE, RMH2O and FF."
   ]
  },
  {
   "cell_type": "markdown",
   "id": "19066237",
   "metadata": {},
   "source": [
    "## Analysis of variance (ANOVA): qualitative predictors"
   ]
  },
  {
   "cell_type": "code",
   "execution_count": 58,
   "id": "c8848c39",
   "metadata": {},
   "outputs": [
    {
     "data": {
      "text/plain": [
       "\n",
       "Call:\n",
       "lm(formula = O3o ~ JJ, data = data)\n",
       "\n",
       "Residuals:\n",
       "    Min      1Q  Median      3Q     Max \n",
       "-96.544 -28.073  -6.544  19.927 203.456 \n",
       "\n",
       "Coefficients:\n",
       "            Estimate Std. Error t value Pr(>|t|)    \n",
       "(Intercept) 115.0726     2.3038  49.949   <2e-16 ***\n",
       "JJS           0.4716     2.7625   0.171    0.864    \n",
       "---\n",
       "Signif. codes:  0 '***' 0.001 '**' 0.01 '*' 0.05 '.' 0.1 ' ' 1\n",
       "\n",
       "Residual standard error: 41.02 on 1039 degrees of freedom\n",
       "Multiple R-squared:  2.805e-05,\tAdjusted R-squared:  -0.0009344 \n",
       "F-statistic: 0.02915 on 1 and 1039 DF,  p-value: 0.8645\n"
      ]
     },
     "metadata": {},
     "output_type": "display_data"
    },
    {
     "data": {
      "text/html": [
       "<table>\n",
       "<thead><tr><th scope=col>(Intercept)</th><th scope=col>JJS</th></tr></thead>\n",
       "<tbody>\n",
       "\t<tr><td>1</td><td>0</td></tr>\n",
       "\t<tr><td>1</td><td>0</td></tr>\n",
       "\t<tr><td>1</td><td>1</td></tr>\n",
       "\t<tr><td>1</td><td>1</td></tr>\n",
       "\t<tr><td>1</td><td>1</td></tr>\n",
       "\t<tr><td>1</td><td>1</td></tr>\n",
       "\t<tr><td>1</td><td>1</td></tr>\n",
       "\t<tr><td>1</td><td>0</td></tr>\n",
       "\t<tr><td>1</td><td>0</td></tr>\n",
       "\t<tr><td>1</td><td>1</td></tr>\n",
       "</tbody>\n",
       "</table>\n"
      ],
      "text/latex": [
       "\\begin{tabular}{r|ll}\n",
       " (Intercept) & JJS\\\\\n",
       "\\hline\n",
       "\t 1 & 0\\\\\n",
       "\t 1 & 0\\\\\n",
       "\t 1 & 1\\\\\n",
       "\t 1 & 1\\\\\n",
       "\t 1 & 1\\\\\n",
       "\t 1 & 1\\\\\n",
       "\t 1 & 1\\\\\n",
       "\t 1 & 0\\\\\n",
       "\t 1 & 0\\\\\n",
       "\t 1 & 1\\\\\n",
       "\\end{tabular}\n"
      ],
      "text/markdown": [
       "\n",
       "| (Intercept) | JJS |\n",
       "|---|---|\n",
       "| 1 | 0 |\n",
       "| 1 | 0 |\n",
       "| 1 | 1 |\n",
       "| 1 | 1 |\n",
       "| 1 | 1 |\n",
       "| 1 | 1 |\n",
       "| 1 | 1 |\n",
       "| 1 | 0 |\n",
       "| 1 | 0 |\n",
       "| 1 | 1 |\n",
       "\n"
      ],
      "text/plain": [
       "   (Intercept) JJS\n",
       "1  1           0  \n",
       "2  1           0  \n",
       "3  1           1  \n",
       "4  1           1  \n",
       "5  1           1  \n",
       "6  1           1  \n",
       "7  1           1  \n",
       "8  1           0  \n",
       "9  1           0  \n",
       "10 1           1  "
      ]
     },
     "metadata": {},
     "output_type": "display_data"
    }
   ],
   "source": [
    "anova1=lm(O3o~JJ,data)\n",
    "summary(anova1)\n",
    "model.matrix(anova1)[1:10,]"
   ]
  },
  {
   "cell_type": "markdown",
   "id": "04feb71c",
   "metadata": {},
   "source": [
    "- By default, R has set the identification constraint alpha(F)=0. The F-modality of the JJ factor is therefore taken as a reference.\n",
    "- The constant term of the model therefore includes the effect of the F-modality. The estimate of the alpha(S) parameter relating to the S-modality of the JJ factor\n",
    "- (here R finds 0.4716 but with a standard deviation of 2.76) is then interpreted as the average impact on O3o of an open day compared to that of an iron day. \n",
    "- This term is considered insignificant by the authors.\n",
    "- This term is found to be insignificant by the Student's t test and therefore the predictor JJ does not seem to be relevant here.\n"
   ]
  },
  {
   "cell_type": "code",
   "execution_count": 61,
   "id": "d360c154",
   "metadata": {},
   "outputs": [
    {
     "data": {
      "text/html": [
       "<dl class=dl-horizontal>\n",
       "\t<dt>1</dt>\n",
       "\t\t<dd>115.072555205047</dd>\n",
       "\t<dt>2</dt>\n",
       "\t\t<dd>115.072555205047</dd>\n",
       "\t<dt>3</dt>\n",
       "\t\t<dd>115.544198895028</dd>\n",
       "\t<dt>4</dt>\n",
       "\t\t<dd>115.544198895028</dd>\n",
       "\t<dt>5</dt>\n",
       "\t\t<dd>115.544198895028</dd>\n",
       "\t<dt>6</dt>\n",
       "\t\t<dd>115.544198895028</dd>\n",
       "\t<dt>7</dt>\n",
       "\t\t<dd>115.544198895028</dd>\n",
       "\t<dt>8</dt>\n",
       "\t\t<dd>115.072555205047</dd>\n",
       "\t<dt>9</dt>\n",
       "\t\t<dd>115.072555205047</dd>\n",
       "\t<dt>10</dt>\n",
       "\t\t<dd>115.544198895028</dd>\n",
       "</dl>\n"
      ],
      "text/latex": [
       "\\begin{description*}\n",
       "\\item[1] 115.072555205047\n",
       "\\item[2] 115.072555205047\n",
       "\\item[3] 115.544198895028\n",
       "\\item[4] 115.544198895028\n",
       "\\item[5] 115.544198895028\n",
       "\\item[6] 115.544198895028\n",
       "\\item[7] 115.544198895028\n",
       "\\item[8] 115.072555205047\n",
       "\\item[9] 115.072555205047\n",
       "\\item[10] 115.544198895028\n",
       "\\end{description*}\n"
      ],
      "text/markdown": [
       "1\n",
       ":   115.0725552050472\n",
       ":   115.0725552050473\n",
       ":   115.5441988950284\n",
       ":   115.5441988950285\n",
       ":   115.5441988950286\n",
       ":   115.5441988950287\n",
       ":   115.5441988950288\n",
       ":   115.0725552050479\n",
       ":   115.07255520504710\n",
       ":   115.544198895028\n",
       "\n"
      ],
      "text/plain": [
       "       1        2        3        4        5        6        7        8 \n",
       "115.0726 115.0726 115.5442 115.5442 115.5442 115.5442 115.5442 115.0726 \n",
       "       9       10 \n",
       "115.0726 115.5442 "
      ]
     },
     "metadata": {},
     "output_type": "display_data"
    },
    {
     "ename": "ERROR",
     "evalue": "Error in fitted(anova2): objet 'anova2' introuvable\n",
     "output_type": "error",
     "traceback": [
      "Error in fitted(anova2): objet 'anova2' introuvable\nTraceback:\n",
      "1. fitted(anova2)"
     ]
    }
   ],
   "source": [
    "fitted(anova1)[1:10]\n",
    "fitted(anova2)[1:10]"
   ]
  },
  {
   "cell_type": "markdown",
   "id": "7d7df13c",
   "metadata": {},
   "source": [
    "## Analysis of covariance (ANCOVA): quantitative and qualitative predictors, automatic selection\n"
   ]
  },
  {
   "cell_type": "code",
   "execution_count": 62,
   "id": "7d1ae68b",
   "metadata": {},
   "outputs": [],
   "source": [
    "regcomplet=lm(O3o~O3p+TEMPE+RMH2O+log(NO2)+FF+STATION+JJ,data)"
   ]
  },
  {
   "cell_type": "markdown",
   "id": "1c14ac4f",
   "metadata": {},
   "source": [
    "- The STATION factor is added to 5 modalities. The aim here is to develop a single statistical model for all the stations."
   ]
  },
  {
   "cell_type": "code",
   "execution_count": 63,
   "id": "15747661",
   "metadata": {},
   "outputs": [
    {
     "data": {
      "text/plain": [
       "\n",
       "Call:\n",
       "lm(formula = O3o ~ O3p + TEMPE + RMH2O + log(NO2) + FF + STATION + \n",
       "    JJ, data = data)\n",
       "\n",
       "Residuals:\n",
       "     Min       1Q   Median       3Q      Max \n",
       "-101.114  -18.621   -1.137   17.612  151.938 \n",
       "\n",
       "Coefficients:\n",
       "             Estimate Std. Error t value Pr(>|t|)    \n",
       "(Intercept) -22.39777    6.48854  -3.452 0.000579 ***\n",
       "O3p           0.28314    0.03519   8.047 2.32e-15 ***\n",
       "TEMPE         3.94099    0.22484  17.528  < 2e-16 ***\n",
       "RMH2O       678.24828  256.32759   2.646 0.008269 ** \n",
       "log(NO2)      3.15832    1.35508   2.331 0.019960 *  \n",
       "FF           -1.36322    0.36249  -3.761 0.000179 ***\n",
       "STATIONAls    1.74032    3.38374   0.514 0.607140    \n",
       "STATIONCad    9.14316    3.12442   2.926 0.003505 ** \n",
       "STATIONPla   20.89448    3.86937   5.400 8.27e-08 ***\n",
       "STATIONRam    2.38132    3.11433   0.765 0.444665    \n",
       "JJS          -1.02459    1.91137  -0.536 0.592038    \n",
       "---\n",
       "Signif. codes:  0 '***' 0.001 '**' 0.01 '*' 0.05 '.' 0.1 ' ' 1\n",
       "\n",
       "Residual standard error: 28.23 on 1030 degrees of freedom\n",
       "Multiple R-squared:  0.5305,\tAdjusted R-squared:  0.526 \n",
       "F-statistic: 116.4 on 10 and 1030 DF,  p-value: < 2.2e-16\n"
      ]
     },
     "metadata": {},
     "output_type": "display_data"
    }
   ],
   "source": [
    "summary(regcomplet)"
   ]
  },
  {
   "cell_type": "markdown",
   "id": "5f390e3e",
   "metadata": {},
   "source": [
    "- Two constraints have been imposed here since there are 2 factors. In view of the R outputs, the software has taken as references the F mode of JJ \n",
    "- and the Aix modality of STATION. The constant term (intercept) therefore includes the average effects of the F and Aix modalities.\n",
    "- If we are interested in the Rambouillet station on an open day, the model will add the terms 2.381 and -1.024.\n",
    "- The analysis of Student's t tests confirms that the JJ factor is not significantly influential, but some of the STATION modalities are.\n",
    "- O3o behaves differently at the Pla and Cad stations compared to Aix, while Als and Ram have average behaviours very close to Aix. \n",
    "- The STATION predictor should therefore be retained as it enriches the model.\n",
    "- We notice that the variable FF seems to be more influential than in question 2, as well as for NO2. FF and NO2 have therefore a significant impact on O3o on some stations.\n",
    "\n"
   ]
  },
  {
   "cell_type": "code",
   "execution_count": 64,
   "id": "c8b48a67",
   "metadata": {},
   "outputs": [
    {
     "data": {
      "image/png": "[encoded data removed]",
      "text/plain": [
       "Plot with title \"Hypothèse d'homoscédasticité\""
      ]
     },
     "metadata": {},
     "output_type": "display_data"
    }
   ],
   "source": [
    "par(mfrow=c(2,2))\n",
    "hist(residuals(regcomplet))\n",
    "qqnorm(residuals(regcomplet))\n",
    "acf(residuals(regcomplet))\n",
    "plot(fitted(regcomplet),residuals(regcomplet),main=\"Hypothèse d'homoscédasticité\",xlab=\"Valeurs ajustées (Y*)\",ylab=\"Résidus\")\n"
   ]
  },
  {
   "cell_type": "markdown",
   "id": "e3c8b4fa",
   "metadata": {},
   "source": [
    "- the independence and homoscedasticity assumptions are not met -> other types of statistical models may be more appropriate for the data"
   ]
  },
  {
   "cell_type": "markdown",
   "id": "0c8cc915",
   "metadata": {},
   "source": [
    "--> # Selection automatique des predicteurs"
   ]
  },
  {
   "cell_type": "code",
   "execution_count": 66,
   "id": "904771e4",
   "metadata": {},
   "outputs": [],
   "source": [
    "library(MASS)"
   ]
  },
  {
   "cell_type": "code",
   "execution_count": 67,
   "id": "d9d40a34",
   "metadata": {},
   "outputs": [
    {
     "name": "stdout",
     "output_type": "stream",
     "text": [
      "Start:  AIC=6965.42\n",
      "O3o ~ O3p + TEMPE + RMH2O + log(NO2) + FF + STATION + JJ\n",
      "\n",
      "           Df Sum of Sq     RSS    AIC\n",
      "- JJ        1       229  820912 6963.7\n",
      "<none>                   820683 6965.4\n",
      "- log(NO2)  1      4328  825011 6968.9\n",
      "- RMH2O     1      5579  826261 6970.5\n",
      "- FF        1     11269  831952 6977.6\n",
      "- STATION   4     26698  847381 6990.7\n",
      "- O3p       1     51594  872277 7026.9\n",
      "- TEMPE     1    244797 1065480 7235.2\n",
      "\n",
      "Step:  AIC=6963.71\n",
      "O3o ~ O3p + TEMPE + RMH2O + log(NO2) + FF + STATION\n",
      "\n",
      "           Df Sum of Sq     RSS    AIC\n",
      "<none>                   820912 6963.7\n",
      "- log(NO2)  1      4253  825165 6967.1\n",
      "- RMH2O     1      5452  826364 6968.6\n",
      "- FF        1     11544  832456 6976.3\n",
      "- STATION   4     26775  847687 6989.1\n",
      "- O3p       1     51437  872349 7025.0\n",
      "- TEMPE     1    245508 1066420 7234.1\n"
     ]
    },
    {
     "data": {
      "text/plain": [
       "\n",
       "Call:\n",
       "lm(formula = O3o ~ O3p + TEMPE + RMH2O + log(NO2) + FF + STATION, \n",
       "    data = data)\n",
       "\n",
       "Residuals:\n",
       "     Min       1Q   Median       3Q      Max \n",
       "-100.339  -18.341   -1.101   17.653  151.653 \n",
       "\n",
       "Coefficients:\n",
       "             Estimate Std. Error t value Pr(>|t|)    \n",
       "(Intercept) -22.90792    6.41615  -3.570 0.000373 ***\n",
       "O3p           0.28259    0.03516   8.037  2.5e-15 ***\n",
       "TEMPE         3.94477    0.22465  17.560  < 2e-16 ***\n",
       "RMH2O       668.99899  255.65779   2.617 0.009006 ** \n",
       "log(NO2)      3.12787    1.35342   2.311 0.021025 *  \n",
       "FF           -1.37654    0.36152  -3.808 0.000149 ***\n",
       "STATIONAls    1.68167    3.38080   0.497 0.619001    \n",
       "STATIONCad    9.11676    3.12296   2.919 0.003585 ** \n",
       "STATIONPla   20.90191    3.86800   5.404  8.1e-08 ***\n",
       "STATIONRam    2.34660    3.11258   0.754 0.451076    \n",
       "---\n",
       "Signif. codes:  0 '***' 0.001 '**' 0.01 '*' 0.05 '.' 0.1 ' ' 1\n",
       "\n",
       "Residual standard error: 28.22 on 1031 degrees of freedom\n",
       "Multiple R-squared:  0.5304,\tAdjusted R-squared:  0.5263 \n",
       "F-statistic: 129.4 on 9 and 1031 DF,  p-value: < 2.2e-16\n"
      ]
     },
     "metadata": {},
     "output_type": "display_data"
    },
    {
     "data": {
      "text/plain": [
       "O3o ~ O3p + TEMPE + RMH2O + log(NO2) + FF + STATION"
      ]
     },
     "metadata": {},
     "output_type": "display_data"
    }
   ],
   "source": [
    "regaic=stepAIC(regcomplet)\n",
    "summary(regaic)\n",
    "formula(regaic)"
   ]
  },
  {
   "cell_type": "markdown",
   "id": "e4574175",
   "metadata": {},
   "source": [
    "- automatic top-down selection using the AIC criterion removes only the JJ factor"
   ]
  },
  {
   "cell_type": "code",
   "execution_count": 68,
   "id": "fc25a4b1",
   "metadata": {},
   "outputs": [
    {
     "name": "stdout",
     "output_type": "stream",
     "text": [
      "Start:  AIC=7019.85\n",
      "O3o ~ O3p + TEMPE + RMH2O + log(NO2) + FF + STATION + JJ\n",
      "\n",
      "           Df Sum of Sq     RSS    AIC\n",
      "- JJ        1       229  820912 7013.2\n",
      "- log(NO2)  1      4328  825011 7018.4\n",
      "<none>                   820683 7019.9\n",
      "- RMH2O     1      5579  826261 7020.0\n",
      "- STATION   4     26698  847381 7025.4\n",
      "- FF        1     11269  831952 7027.1\n",
      "- O3p       1     51594  872277 7076.4\n",
      "- TEMPE     1    244797 1065480 7284.6\n",
      "\n",
      "Step:  AIC=7013.19\n",
      "O3o ~ O3p + TEMPE + RMH2O + log(NO2) + FF + STATION\n",
      "\n",
      "           Df Sum of Sq     RSS    AIC\n",
      "- log(NO2)  1      4253  825165 7011.6\n",
      "- RMH2O     1      5452  826364 7013.1\n",
      "<none>                   820912 7013.2\n",
      "- STATION   4     26775  847687 7018.8\n",
      "- FF        1     11544  832456 7020.8\n",
      "- O3p       1     51437  872349 7069.5\n",
      "- TEMPE     1    245508 1066420 7278.6\n",
      "\n",
      "Step:  AIC=7011.62\n",
      "O3o ~ O3p + TEMPE + RMH2O + FF + STATION\n",
      "\n",
      "          Df Sum of Sq     RSS    AIC\n",
      "- RMH2O    1      4914  830079 7010.9\n",
      "<none>                  825165 7011.6\n",
      "- STATION  4     23162  848327 7012.7\n",
      "- FF       1     12250  837415 7020.0\n",
      "- O3p      1     78717  903882 7099.5\n",
      "- TEMPE    1    241575 1066740 7272.0\n",
      "\n",
      "Step:  AIC=7010.86\n",
      "O3o ~ O3p + TEMPE + FF + STATION\n",
      "\n",
      "          Df Sum of Sq     RSS    AIC\n",
      "<none>                  830079 7010.9\n",
      "- STATION  4     24358  854437 7013.2\n",
      "- FF       1     16112  846191 7023.9\n",
      "- O3p      1     83925  914004 7104.2\n",
      "- TEMPE    1    264355 1094434 7291.7\n"
     ]
    },
    {
     "data": {
      "text/plain": [
       "\n",
       "Call:\n",
       "lm(formula = O3o ~ O3p + TEMPE + FF + STATION, data = data)\n",
       "\n",
       "Residuals:\n",
       "    Min      1Q  Median      3Q     Max \n",
       "-98.526 -18.606  -0.858  17.840 153.262 \n",
       "\n",
       "Coefficients:\n",
       "             Estimate Std. Error t value Pr(>|t|)    \n",
       "(Intercept) -15.82795    6.09487  -2.597  0.00954 ** \n",
       "O3p           0.32534    0.03183  10.220  < 2e-16 ***\n",
       "TEMPE         3.96241    0.21846  18.138  < 2e-16 ***\n",
       "FF           -1.59270    0.35569  -4.478 8.38e-06 ***\n",
       "STATIONAls   -0.31788    3.18811  -0.100  0.92060    \n",
       "STATIONCad    5.89587    2.83971   2.076  0.03812 *  \n",
       "STATIONPla   16.48771    3.18833   5.171 2.79e-07 ***\n",
       "STATIONRam    1.19463    3.06210   0.390  0.69652    \n",
       "---\n",
       "Signif. codes:  0 '***' 0.001 '**' 0.01 '*' 0.05 '.' 0.1 ' ' 1\n",
       "\n",
       "Residual standard error: 28.35 on 1033 degrees of freedom\n",
       "Multiple R-squared:  0.5252,\tAdjusted R-squared:  0.522 \n",
       "F-statistic: 163.2 on 7 and 1033 DF,  p-value: < 2.2e-16\n"
      ]
     },
     "metadata": {},
     "output_type": "display_data"
    },
    {
     "data": {
      "text/plain": [
       "O3o ~ O3p + TEMPE + FF + STATION"
      ]
     },
     "metadata": {},
     "output_type": "display_data"
    }
   ],
   "source": [
    "regbic=stepAIC(regcomplet,k=log(nrow(data)))\n",
    "summary(regbic)\n",
    "formula(regbic)"
   ]
  },
  {
   "cell_type": "markdown",
   "id": "d7ed11fe",
   "metadata": {},
   "source": [
    "- automatic top-down selection using the BIC criterion removes the JJ factor and the RMH2O and NO2 variables\n",
    "- the BIC selection is more severe and leads in general to more parsimonious models (less selected predictors than with the AIC criterion)\n",
    "- the penalty term associated with the model dimension in the BIC is indeed more important than for the AIC.\n",
    "- The % of explained variance increases to 52%.\n",
    "\n"
   ]
  },
  {
   "cell_type": "code",
   "execution_count": 71,
   "id": "7d361dc3",
   "metadata": {},
   "outputs": [],
   "source": [
    "#comparison\n",
    "\n",
    "#regint=lm(O3o~.*.,data)\n",
    "#regbicint=stepAIC(regint,k=log(nrow(data)))\n",
    "#formula(regbicint)"
   ]
  },
  {
   "cell_type": "markdown",
   "id": "57b219e3",
   "metadata": {},
   "source": [
    " ## Evaluation of the model developed with the BIC criterion "
   ]
  },
  {
   "cell_type": "code",
   "execution_count": 72,
   "id": "b9c97c06",
   "metadata": {},
   "outputs": [
    {
     "data": {
      "image/png": "[encoded data removed]",
      "text/plain": [
       "Plot with title \"Concentration d'ozone\""
      ]
     },
     "metadata": {},
     "output_type": "display_data"
    }
   ],
   "source": [
    "plot(data$O3o,type =\"l\",main=\"Concentration d'ozone\",xlab=\"Indice\",ylab=\"[O3]\")\n",
    "points(data$O3p,col=\"blue\",pch=\"+\",cex=1.2)\n",
    "regsimple=lm(O3o~O3p,data)\n",
    "points(fitted(regbic),col=\"green\",pch=\"+\",cex=1.2)\n",
    "points(fitted(regsimple),col=\"red\",pch=\"+\",cex=1.2)\n",
    "legend(0,330,lty=1,col=c(\"black\"),legend=c(\"observé O3o\"),bty=\"n\")\n",
    "legend(0,320,pch=\"+\",col=c(\"blue\",\"red\",\"green\"),legend=c(\"       prevu O3p\",\"       regsimple\",\"       regbic\"),bty=\"n\") \n"
   ]
  },
  {
   "cell_type": "markdown",
   "id": "6b00ec75",
   "metadata": {},
   "source": [
    "- We see that the more flexible regbic model in green improves on the simple regression in red by giving greater variability to the statistical forecasts\n"
   ]
  },
  {
   "cell_type": "markdown",
   "id": "cdd278f6",
   "metadata": {},
   "source": [
    "#### Calcul des scores :"
   ]
  },
  {
   "cell_type": "code",
   "execution_count": 74,
   "id": "b6651e98",
   "metadata": {},
   "outputs": [],
   "source": [
    "# fonction calculant le biais et le RMSE\n",
    "score=function(obs,prev) {\n",
    "rmse=sqrt(mean((prev-obs)**2))\n",
    "biais=mean(prev-obs)\n",
    "print(\"Biais       RMSE\") \n",
    "return(c(biais,rmse))\n",
    "}"
   ]
  },
  {
   "cell_type": "code",
   "execution_count": 75,
   "id": "afc9d66b",
   "metadata": {},
   "outputs": [
    {
     "name": "stdout",
     "output_type": "stream",
     "text": [
      "[1] \"Biais       RMSE\"\n"
     ]
    },
    {
     "data": {
      "text/html": [
       "<ol class=list-inline>\n",
       "\t<li>11.81911623439</li>\n",
       "\t<li>38.3446042403828</li>\n",
       "</ol>\n"
      ],
      "text/latex": [
       "\\begin{enumerate*}\n",
       "\\item 11.81911623439\n",
       "\\item 38.3446042403828\n",
       "\\end{enumerate*}\n"
      ],
      "text/markdown": [
       "1. 11.81911623439\n",
       "2. 38.3446042403828\n",
       "\n",
       "\n"
      ],
      "text/plain": [
       "[1] 11.81912 38.34460"
      ]
     },
     "metadata": {},
     "output_type": "display_data"
    }
   ],
   "source": [
    "score(data$O3o,data$O3p)"
   ]
  },
  {
   "cell_type": "code",
   "execution_count": 76,
   "id": "fd4b423d",
   "metadata": {},
   "outputs": [],
   "source": [
    "# -> the gross forecast is biased"
   ]
  },
  {
   "cell_type": "code",
   "execution_count": 77,
   "id": "96fb4cf0",
   "metadata": {},
   "outputs": [
    {
     "name": "stdout",
     "output_type": "stream",
     "text": [
      "[1] \"Biais       RMSE\"\n"
     ]
    },
    {
     "data": {
      "text/html": [
       "<ol class=list-inline>\n",
       "\t<li>3.31247197458857e-16</li>\n",
       "\t<li>33.0113102827458</li>\n",
       "</ol>\n"
      ],
      "text/latex": [
       "\\begin{enumerate*}\n",
       "\\item 3.31247197458857e-16\n",
       "\\item 33.0113102827458\n",
       "\\end{enumerate*}\n"
      ],
      "text/markdown": [
       "1. 3.31247197458857e-16\n",
       "2. 33.0113102827458\n",
       "\n",
       "\n"
      ],
      "text/plain": [
       "[1] 3.312472e-16 3.301131e+01"
      ]
     },
     "metadata": {},
     "output_type": "display_data"
    }
   ],
   "source": [
    "score(data$O3o,fitted(regsimple))"
   ]
  },
  {
   "cell_type": "code",
   "execution_count": 78,
   "id": "e661d61b",
   "metadata": {},
   "outputs": [],
   "source": [
    "# -> simple regression debiases the raw forecast and reduces the variability of the error"
   ]
  },
  {
   "cell_type": "code",
   "execution_count": 79,
   "id": "b4a4483c",
   "metadata": {},
   "outputs": [
    {
     "name": "stdout",
     "output_type": "stream",
     "text": [
      "[1] \"Biais       RMSE\"\n"
     ]
    },
    {
     "data": {
      "text/html": [
       "<ol class=list-inline>\n",
       "\t<li>6.13885476767623e-16</li>\n",
       "\t<li>28.2380271427983</li>\n",
       "</ol>\n"
      ],
      "text/latex": [
       "\\begin{enumerate*}\n",
       "\\item 6.13885476767623e-16\n",
       "\\item 28.2380271427983\n",
       "\\end{enumerate*}\n"
      ],
      "text/markdown": [
       "1. 6.13885476767623e-16\n",
       "2. 28.2380271427983\n",
       "\n",
       "\n"
      ],
      "text/plain": [
       "[1] 6.138855e-16 2.823803e+01"
      ]
     },
     "metadata": {},
     "output_type": "display_data"
    }
   ],
   "source": [
    "score(data$O3o,fitted(regbic))"
   ]
  },
  {
   "cell_type": "code",
   "execution_count": 80,
   "id": "b5afdfb9",
   "metadata": {},
   "outputs": [],
   "source": [
    "# -> BIC regression further reduces the variability of the error"
   ]
  },
  {
   "cell_type": "markdown",
   "id": "dbf5cf81",
   "metadata": {},
   "source": [
    "#### But are the discrepancies significant? There is no way to tell at this stage.\n",
    "\n",
    "\n",
    "##### Important notes :\n",
    "\n",
    "- These scores were calculated on the training file, i.e. on the data used to estimate the statistical model.\n",
    "- To validate the model, it should also be tested on a test file, i.e. on new data (not used to estimate the parameters of the model). \n",
    "- The scores on the test file are used to evaluate the quality of the data. The scores on the test file are used to assess the robustness of the \n",
    "- of the statistical model (= ability to adapt to new data).\n",
    "- If the model is too large, the scores will be good or even excellent on learning but bad on testing: the model will be too adapted to the sample of data. \n",
    "- If the model is too large, the scores will be good or even excellent on learning but bad on testing: the model will be too adapted to the learning sample but unable to detach itself from it (= phenomenon of over-learning, see slide 29 of the course). \n",
    "- The principle of parsimony is therefore very important, it is a guarantee of robustness: for similar performances, keep the lowest dimensional model.\n",
    "\n",
    "- To have access to the variability of the score estimators (= sensitivity of the estimator to sampling)\n",
    "- We can practice cross-validation by randomly drawing several training and test sub-samples, allowing us to obtain several estimates of scores for each model.\n",
    "- score estimates for each model (see graph score.pdf on moodle, scores on training file then test file, the model with interactions is over-learned, \n",
    "- the simple and BIC models are robust, the BIC being significantly better on test is therefore the model to retain here).\n",
    "\n",
    "\n",
    "\n",
    "\n"
   ]
  },
  {
   "cell_type": "code",
   "execution_count": null,
   "id": "1506e944",
   "metadata": {},
   "outputs": [],
   "source": []
  }
 ],
 "metadata": {
  "kernelspec": {
   "display_name": "R",
   "language": "R",
   "name": "ir"
  },
  "language_info": {
   "codemirror_mode": "r",
   "file_extension": ".r",
   "mimetype": "text/x-r-source",
   "name": "R",
   "pygments_lexer": "r",
   "version": "3.6.1"
  }
 },
 "nbformat": 4,
 "nbformat_minor": 5
}
