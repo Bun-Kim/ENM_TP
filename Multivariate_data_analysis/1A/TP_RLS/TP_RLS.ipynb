{
 "cells": [
  {
   "cell_type": "markdown",
   "id": "cbd02dfb",
   "metadata": {},
   "source": [
    "### Objectives\n",
    "We are interested in the daily max (TX) and min (TN) temperature parameters at the \n",
    " Blagnac station. We note TXo (observé) and TNo the temperatures measured at the station of Blagnac, TXp and TNp (prévu) the raw forecasts of the ARPEGE model at \n",
    "Blagnac station, TXp and TNp are the raw forecasts of the ARPEGE model for the next day.\n",
    "We have observations and forecasts of these parameters for the months of February and \n",
    "July 2008. In this exercise, we will focus on the parameters TX for the month of July 2008 \n",
    "July 2008 and TN for February 2008.\n"
   ]
  },
  {
   "cell_type": "markdown",
   "id": "276bd5a6",
   "metadata": {},
   "source": [
    "### Data Reading"
   ]
  },
  {
   "cell_type": "code",
   "execution_count": 14,
   "id": "e5c0f03e",
   "metadata": {},
   "outputs": [],
   "source": [
    "import pandas as pd\n",
    "import matplotlib.pyplot as plt"
   ]
  },
  {
   "cell_type": "code",
   "execution_count": 23,
   "id": "5cdcf820",
   "metadata": {},
   "outputs": [],
   "source": [
    "dataJ=pd.read_csv(\"dataRLS_juil.txt\",header=0,delim_whitespace=True)\n",
    "dataF=pd.read_csv(\"dataRLS_fev.txt\",header=0,delim_whitespace=True)"
   ]
  },
  {
   "cell_type": "code",
   "execution_count": 32,
   "id": "516b7386",
   "metadata": {},
   "outputs": [
    {
     "data": {
      "text/html": [
       "<div>\n",
       "<style scoped>\n",
       "    .dataframe tbody tr th:only-of-type {\n",
       "        vertical-align: middle;\n",
       "    }\n",
       "\n",
       "    .dataframe tbody tr th {\n",
       "        vertical-align: top;\n",
       "    }\n",
       "\n",
       "    .dataframe thead th {\n",
       "        text-align: right;\n",
       "    }\n",
       "</style>\n",
       "<table border=\"1\" class=\"dataframe\">\n",
       "  <thead>\n",
       "    <tr style=\"text-align: right;\">\n",
       "      <th></th>\n",
       "      <th>DATE_VALID</th>\n",
       "      <th>TNo</th>\n",
       "      <th>TNp</th>\n",
       "      <th>TXo</th>\n",
       "      <th>TXp</th>\n",
       "    </tr>\n",
       "  </thead>\n",
       "  <tbody>\n",
       "    <tr>\n",
       "      <th>0</th>\n",
       "      <td>20080701</td>\n",
       "      <td>18.2</td>\n",
       "      <td>18.2</td>\n",
       "      <td>33.9</td>\n",
       "      <td>35.1</td>\n",
       "    </tr>\n",
       "    <tr>\n",
       "      <th>1</th>\n",
       "      <td>20080702</td>\n",
       "      <td>19.4</td>\n",
       "      <td>20.5</td>\n",
       "      <td>24.5</td>\n",
       "      <td>30.2</td>\n",
       "    </tr>\n",
       "    <tr>\n",
       "      <th>2</th>\n",
       "      <td>20080703</td>\n",
       "      <td>14.5</td>\n",
       "      <td>14.8</td>\n",
       "      <td>19.6</td>\n",
       "      <td>20.8</td>\n",
       "    </tr>\n",
       "    <tr>\n",
       "      <th>3</th>\n",
       "      <td>20080704</td>\n",
       "      <td>11.3</td>\n",
       "      <td>13.6</td>\n",
       "      <td>29.2</td>\n",
       "      <td>27.0</td>\n",
       "    </tr>\n",
       "    <tr>\n",
       "      <th>4</th>\n",
       "      <td>20080705</td>\n",
       "      <td>16.0</td>\n",
       "      <td>16.1</td>\n",
       "      <td>25.7</td>\n",
       "      <td>24.6</td>\n",
       "    </tr>\n",
       "  </tbody>\n",
       "</table>\n",
       "</div>"
      ],
      "text/plain": [
       "   DATE_VALID   TNo   TNp   TXo   TXp\n",
       "0    20080701  18.2  18.2  33.9  35.1\n",
       "1    20080702  19.4  20.5  24.5  30.2\n",
       "2    20080703  14.5  14.8  19.6  20.8\n",
       "3    20080704  11.3  13.6  29.2  27.0\n",
       "4    20080705  16.0  16.1  25.7  24.6"
      ]
     },
     "execution_count": 32,
     "metadata": {},
     "output_type": "execute_result"
    }
   ],
   "source": [
    "dataJ.head()"
   ]
  },
  {
   "cell_type": "code",
   "execution_count": 22,
   "id": "85d451b5",
   "metadata": {},
   "outputs": [
    {
     "data": {
      "text/plain": [
       "Index(['DATE_VALID', 'TNo', 'TNp', 'TXo', 'TXp'], dtype='object')"
      ]
     },
     "execution_count": 22,
     "metadata": {},
     "output_type": "execute_result"
    }
   ],
   "source": [
    "dataJ.columns"
   ]
  },
  {
   "cell_type": "markdown",
   "id": "93a48cde",
   "metadata": {},
   "source": [
    "###  Clouds of points (TNo,TNp) relative to the month of February and (TXo,TXp) relative to the month of July."
   ]
  },
  {
   "cell_type": "code",
   "execution_count": 34,
   "id": "597e34e2",
   "metadata": {},
   "outputs": [
    {
     "data": {
      "text/plain": [
       "0      1.4\n",
       "1      1.7\n",
       "2     -0.8\n",
       "3      3.8\n",
       "4      2.7\n",
       "5      2.3\n",
       "6      6.5\n",
       "7      4.1\n",
       "8      4.7\n",
       "9      3.3\n",
       "10     3.0\n",
       "11     4.5\n",
       "12     2.3\n",
       "13     4.1\n",
       "14     1.8\n",
       "15     0.3\n",
       "16     5.3\n",
       "17     4.5\n",
       "18     6.8\n",
       "19     7.7\n",
       "20     5.9\n",
       "21     4.9\n",
       "22     5.2\n",
       "23     8.5\n",
       "24     8.3\n",
       "25     6.8\n",
       "26    10.5\n",
       "27     9.9\n",
       "28     9.9\n",
       "Name: TNp, dtype: float64"
      ]
     },
     "execution_count": 34,
     "metadata": {},
     "output_type": "execute_result"
    }
   ],
   "source": [
    "dataF[\"TNp\"]"
   ]
  },
  {
   "cell_type": "code",
   "execution_count": 16,
   "id": "6d62303e",
   "metadata": {},
   "outputs": [
    {
     "ename": "NameError",
     "evalue": "name 'par' is not defined",
     "output_type": "error",
     "traceback": [
      "\u001b[1;31m---------------------------------------------------------------------------\u001b[0m",
      "\u001b[1;31mNameError\u001b[0m                                 Traceback (most recent call last)",
      "\u001b[1;32mC:\\Users\\PCBK~1\\AppData\\Local\\Temp/ipykernel_15484/1102118354.py\u001b[0m in \u001b[0;36m<module>\u001b[1;34m\u001b[0m\n\u001b[1;32m----> 1\u001b[1;33m \u001b[0mpar\u001b[0m\u001b[1;33m(\u001b[0m\u001b[0mmfrow\u001b[0m\u001b[1;33m=\u001b[0m\u001b[0mc\u001b[0m\u001b[1;33m(\u001b[0m\u001b[1;36m1\u001b[0m\u001b[1;33m,\u001b[0m\u001b[1;36m2\u001b[0m\u001b[1;33m)\u001b[0m\u001b[1;33m)\u001b[0m\u001b[1;33m\u001b[0m\u001b[1;33m\u001b[0m\u001b[0m\n\u001b[0m",
      "\u001b[1;31mNameError\u001b[0m: name 'par' is not defined"
     ]
    }
   ],
   "source": [
    "fig, (ax1, ax2) = plt.subplots(1, 2)\n",
    "fig.suptitle('Horizontally stacked subplots')\n",
    "ax1.plot(x, y)\n",
    "ax2.plot(x, -y)"
   ]
  },
  {
   "cell_type": "code",
   "execution_count": 50,
   "id": "6425c3ef",
   "metadata": {},
   "outputs": [
    {
     "data": {
      "text/plain": [
       "<matplotlib.collections.PathCollection at 0x2b8ab26da90>"
      ]
     },
     "execution_count": 50,
     "metadata": {},
     "output_type": "execute_result"
    },
    {
     "data": {
      "image/png": "[encoded data removed]",
      "text/plain": [
       "<Figure size 432x288 with 1 Axes>"
      ]
     },
     "metadata": {
      "needs_background": "light"
     },
     "output_type": "display_data"
    }
   ],
   "source": [
    "plt.scatter(dataF['TNp'],dataF['TNo'],marker=\"+\")"
   ]
  },
  {
   "cell_type": "code",
   "execution_count": 67,
   "id": "8298a2e6",
   "metadata": {},
   "outputs": [
    {
     "data": {
      "text/plain": [
       "Text(0, 0.5, 'TX obs juillet (°C)')"
      ]
     },
     "execution_count": 67,
     "metadata": {},
     "output_type": "execute_result"
    },
    {
     "data": {
      "image/png": "[encoded data removed]",
      "text/plain": [
       "<Figure size 432x288 with 2 Axes>"
      ]
     },
     "metadata": {
      "needs_background": "light"
     },
     "output_type": "display_data"
    }
   ],
   "source": [
    "fig, (ax1,ax2) = plt.subplots(1,2)\n",
    "\n",
    "ax1.scatter(dataF['TNp'],dataF['TNo'],marker='+')\n",
    "ax1.set_title(\"Blagnac - Février\")\n",
    "ax1.set_xlabel(\"TN prev février (°C)\") \n",
    "ax1.set_ylabel(\"TN obs février (°C)\")\n",
    "\n",
    "ax2.scatter(dataJ['TXp'],dataJ['TXo'],marker='+')\n",
    "ax2.set_title(\"Blagnac - Juillet\")\n",
    "ax2.set_xlabel(\"TX prev juillet (°C)\") \n",
    "ax2.set_ylabel(\"TX obs juillet (°C)\")\n",
    "\n"
   ]
  },
  {
   "cell_type": "code",
   "execution_count": 71,
   "id": "e2845020",
   "metadata": {},
   "outputs": [
    {
     "data": {
      "text/plain": [
       "<bound method NDFrame.describe of 0      1.0\n",
       "1      4.5\n",
       "2     -2.1\n",
       "3      2.8\n",
       "4     -0.5\n",
       "5      1.5\n",
       "6      4.0\n",
       "7      2.2\n",
       "8      1.3\n",
       "9      1.2\n",
       "10     1.7\n",
       "11     7.1\n",
       "12     0.7\n",
       "13     4.3\n",
       "14     1.4\n",
       "15    -1.0\n",
       "16     4.0\n",
       "17     6.3\n",
       "18     9.2\n",
       "19    10.3\n",
       "20     8.5\n",
       "21     4.1\n",
       "22     3.0\n",
       "23    10.2\n",
       "24     9.3\n",
       "25     9.0\n",
       "26    11.6\n",
       "27     8.9\n",
       "28    10.8\n",
       "Name: TNo, dtype: float64>"
      ]
     },
     "execution_count": 71,
     "metadata": {},
     "output_type": "execute_result"
    }
   ],
   "source": [
    "dataF['TNo'].describe"
   ]
  },
  {
   "cell_type": "code",
   "execution_count": null,
   "id": "c778b71b",
   "metadata": {},
   "outputs": [],
   "source": []
  }
 ],
 "metadata": {
  "kernelspec": {
   "display_name": "Python 3 (ipykernel)",
   "language": "python",
   "name": "python3"
  },
  "language_info": {
   "codemirror_mode": {
    "name": "ipython",
    "version": 3
   },
   "file_extension": ".py",
   "mimetype": "text/x-python",
   "name": "python",
   "nbconvert_exporter": "python",
   "pygments_lexer": "ipython3",
   "version": "3.9.7"
  }
 },
 "nbformat": 4,
 "nbformat_minor": 5
}
